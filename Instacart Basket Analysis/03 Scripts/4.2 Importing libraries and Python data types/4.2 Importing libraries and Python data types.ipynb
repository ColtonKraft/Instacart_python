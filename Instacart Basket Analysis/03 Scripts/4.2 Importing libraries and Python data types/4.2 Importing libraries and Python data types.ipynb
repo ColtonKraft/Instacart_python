{
 "cells": [
  {
   "cell_type": "markdown",
   "id": "d6400743",
   "metadata": {},
   "source": [
    "# Contents\n",
    "01 Importing Libraries\n",
    "02 Practice code for Python data types"
   ]
  },
  {
   "cell_type": "markdown",
   "id": "d6773fc1",
   "metadata": {},
   "source": [
    "# 01. Importing libraries"
   ]
  },
  {
   "cell_type": "code",
   "execution_count": 1,
   "id": "ca107d67",
   "metadata": {},
   "outputs": [],
   "source": [
    "# Import libraries\n",
    "import pandas as pd\n",
    "import numpy as np\n",
    "import os"
   ]
  },
  {
   "cell_type": "markdown",
   "id": "0fbbf436",
   "metadata": {},
   "source": [
    "# 02 Practice code for Python data types"
   ]
  },
  {
   "cell_type": "code",
   "execution_count": 2,
   "id": "c509ed67",
   "metadata": {},
   "outputs": [],
   "source": [
    "x = 2"
   ]
  },
  {
   "cell_type": "code",
   "execution_count": 3,
   "id": "da25c3be",
   "metadata": {},
   "outputs": [
    {
     "data": {
      "text/plain": [
       "2"
      ]
     },
     "execution_count": 3,
     "metadata": {},
     "output_type": "execute_result"
    }
   ],
   "source": [
    "x"
   ]
  },
  {
   "cell_type": "code",
   "execution_count": 4,
   "id": "450610a5",
   "metadata": {},
   "outputs": [
    {
     "name": "stdout",
     "output_type": "stream",
     "text": [
      "2\n"
     ]
    }
   ],
   "source": [
    "print(x)"
   ]
  },
  {
   "cell_type": "code",
   "execution_count": 5,
   "id": "9f56d3ea",
   "metadata": {},
   "outputs": [
    {
     "data": {
      "text/plain": [
       "int"
      ]
     },
     "execution_count": 5,
     "metadata": {},
     "output_type": "execute_result"
    }
   ],
   "source": [
    "type(x)"
   ]
  },
  {
   "cell_type": "code",
   "execution_count": 6,
   "id": "482f251e",
   "metadata": {},
   "outputs": [],
   "source": [
    "y = 5.678"
   ]
  },
  {
   "cell_type": "code",
   "execution_count": 7,
   "id": "50a223a9",
   "metadata": {},
   "outputs": [
    {
     "data": {
      "text/plain": [
       "float"
      ]
     },
     "execution_count": 7,
     "metadata": {},
     "output_type": "execute_result"
    }
   ],
   "source": [
    "type(y)"
   ]
  },
  {
   "cell_type": "code",
   "execution_count": 8,
   "id": "fa4b61d3",
   "metadata": {},
   "outputs": [],
   "source": [
    "z = 'Brazil'"
   ]
  },
  {
   "cell_type": "code",
   "execution_count": 9,
   "id": "39c9f65e",
   "metadata": {},
   "outputs": [
    {
     "data": {
      "text/plain": [
       "str"
      ]
     },
     "execution_count": 9,
     "metadata": {},
     "output_type": "execute_result"
    }
   ],
   "source": [
    "type(z)"
   ]
  },
  {
   "cell_type": "code",
   "execution_count": 10,
   "id": "3b7b03e9",
   "metadata": {},
   "outputs": [
    {
     "data": {
      "text/plain": [
       "bool"
      ]
     },
     "execution_count": 10,
     "metadata": {},
     "output_type": "execute_result"
    }
   ],
   "source": [
    "type(True)"
   ]
  },
  {
   "cell_type": "code",
   "execution_count": 11,
   "id": "81008a39",
   "metadata": {},
   "outputs": [
    {
     "data": {
      "text/plain": [
       "bool"
      ]
     },
     "execution_count": 11,
     "metadata": {},
     "output_type": "execute_result"
    }
   ],
   "source": [
    "type(False)"
   ]
  },
  {
   "cell_type": "code",
   "execution_count": 5,
   "id": "457a9170",
   "metadata": {},
   "outputs": [],
   "source": [
    "z = 50"
   ]
  },
  {
   "cell_type": "code",
   "execution_count": 6,
   "id": "3d246f63",
   "metadata": {},
   "outputs": [],
   "source": [
    "x = 2"
   ]
  },
  {
   "cell_type": "code",
   "execution_count": 7,
   "id": "c9db23da",
   "metadata": {},
   "outputs": [
    {
     "data": {
      "text/plain": [
       "100"
      ]
     },
     "execution_count": 7,
     "metadata": {},
     "output_type": "execute_result"
    }
   ],
   "source": [
    "# multiplication\n",
    "x * z "
   ]
  },
  {
   "cell_type": "code",
   "execution_count": 8,
   "id": "653e0593",
   "metadata": {},
   "outputs": [],
   "source": [
    "y = 200"
   ]
  },
  {
   "cell_type": "code",
   "execution_count": 9,
   "id": "6e60b615",
   "metadata": {},
   "outputs": [
    {
     "data": {
      "text/plain": [
       "100"
      ]
     },
     "execution_count": 9,
     "metadata": {},
     "output_type": "execute_result"
    }
   ],
   "source": [
    "# Subtraction and multiplication\n",
    "y - (x*z)"
   ]
  },
  {
   "cell_type": "code",
   "execution_count": 12,
   "id": "ba9b1e26",
   "metadata": {},
   "outputs": [],
   "source": [
    "a = 300"
   ]
  },
  {
   "cell_type": "code",
   "execution_count": 14,
   "id": "357426b3",
   "metadata": {},
   "outputs": [
    {
     "data": {
      "text/plain": [
       "100"
      ]
     },
     "execution_count": 14,
     "metadata": {},
     "output_type": "execute_result"
    }
   ],
   "source": [
    "# Subtraction\n",
    "a - y"
   ]
  },
  {
   "cell_type": "code",
   "execution_count": 15,
   "id": "b21c1a02",
   "metadata": {},
   "outputs": [],
   "source": [
    "b = 6.6"
   ]
  },
  {
   "cell_type": "code",
   "execution_count": 16,
   "id": "08303ea3",
   "metadata": {},
   "outputs": [],
   "source": [
    "c = 2.2"
   ]
  },
  {
   "cell_type": "code",
   "execution_count": 17,
   "id": "729da870",
   "metadata": {},
   "outputs": [
    {
     "data": {
      "text/plain": [
       "2.9999999999999996"
      ]
     },
     "execution_count": 17,
     "metadata": {},
     "output_type": "execute_result"
    }
   ],
   "source": [
    "# Dividing two floating numbers\n",
    "b / c"
   ]
  },
  {
   "cell_type": "code",
   "execution_count": 22,
   "id": "360cea8d",
   "metadata": {},
   "outputs": [],
   "source": [
    "h = 'basket'"
   ]
  },
  {
   "cell_type": "code",
   "execution_count": 23,
   "id": "00e41aad",
   "metadata": {},
   "outputs": [],
   "source": [
    "d = 'ball'"
   ]
  },
  {
   "cell_type": "code",
   "execution_count": 24,
   "id": "6a77be54",
   "metadata": {},
   "outputs": [
    {
     "data": {
      "text/plain": [
       "'basketball'"
      ]
     },
     "execution_count": 24,
     "metadata": {},
     "output_type": "execute_result"
    }
   ],
   "source": [
    "# Strings concatenation\n",
    "h + d"
   ]
  },
  {
   "cell_type": "code",
   "execution_count": 25,
   "id": "48d4ad27",
   "metadata": {},
   "outputs": [],
   "source": [
    "w = 'Would you want to go to the park? '"
   ]
  },
  {
   "cell_type": "code",
   "execution_count": 26,
   "id": "56ed0c51",
   "metadata": {},
   "outputs": [],
   "source": [
    "i = 'I noticed that the weather is beautiful.'"
   ]
  },
  {
   "cell_type": "code",
   "execution_count": 27,
   "id": "306f3eba",
   "metadata": {},
   "outputs": [
    {
     "data": {
      "text/plain": [
       "'Would you want to go to the park? I noticed that the weather is beautiful.'"
      ]
     },
     "execution_count": 27,
     "metadata": {},
     "output_type": "execute_result"
    }
   ],
   "source": [
    "# Sentences strings concatenation\n",
    "w + i"
   ]
  },
  {
   "cell_type": "code",
   "execution_count": null,
   "id": "b8aba413",
   "metadata": {},
   "outputs": [],
   "source": []
  }
 ],
 "metadata": {
  "kernelspec": {
   "display_name": "Python 3 (ipykernel)",
   "language": "python",
   "name": "python3"
  },
  "language_info": {
   "codemirror_mode": {
    "name": "ipython",
    "version": 3
   },
   "file_extension": ".py",
   "mimetype": "text/x-python",
   "name": "python",
   "nbconvert_exporter": "python",
   "pygments_lexer": "ipython3",
   "version": "3.11.4"
  }
 },
 "nbformat": 4,
 "nbformat_minor": 5
}
